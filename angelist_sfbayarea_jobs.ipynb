{
 "cells": [
  {
   "cell_type": "markdown",
   "metadata": {},
   "source": [
    "# Interactive Chart of Job Compensation Offers in the San Francisco Bay Area\n",
    "\n",
    "by Max Woolf (@minimaxir)\n",
    "\n",
    "*This notebook is licensed under the MIT License. If you use the code or data visualization designs contained within this notebook, it would be greatly appreciated if proper attribution is given back to this notebook and/or myself. Thanks! :)*"
   ]
  },
  {
   "cell_type": "code",
   "execution_count": 1,
   "metadata": {
    "collapsed": false
   },
   "outputs": [
    {
     "name": "stderr",
     "output_type": "stream",
     "text": [
      "\n",
      "Attaching package: ‘dplyr’\n",
      "\n",
      "The following objects are masked from ‘package:stats’:\n",
      "\n",
      "    filter, lag\n",
      "\n",
      "The following objects are masked from ‘package:base’:\n",
      "\n",
      "    intersect, setdiff, setequal, union\n",
      "\n",
      "Registering fonts with R\n",
      "\n",
      "Attaching package: ‘scales’\n",
      "\n",
      "The following objects are masked from ‘package:readr’:\n",
      "\n",
      "    col_factor, col_numeric\n",
      "\n",
      "\n",
      "Attaching package: ‘plotly’\n",
      "\n",
      "The following object is masked _by_ ‘.GlobalEnv’:\n",
      "\n",
      "    subplot\n",
      "\n",
      "The following object is masked from ‘package:ggplot2’:\n",
      "\n",
      "    last_plot\n",
      "\n",
      "The following object is masked from ‘package:graphics’:\n",
      "\n",
      "    layout\n",
      "\n"
     ]
    },
    {
     "data": {
      "text/plain": [
       "R version 3.3.0 (2016-05-03)\n",
       "Platform: x86_64-apple-darwin13.4.0 (64-bit)\n",
       "Running under: OS X 10.11.4 (El Capitan)\n",
       "\n",
       "locale:\n",
       "[1] en_US.UTF-8/en_US.UTF-8/en_US.UTF-8/C/en_US.UTF-8/en_US.UTF-8\n",
       "\n",
       "attached base packages:\n",
       "[1] grid      stats     graphics  grDevices utils     datasets  methods  \n",
       "[8] base     \n",
       "\n",
       "other attached packages:\n",
       " [1] htmlwidgets_0.6    viridis_0.3.4      plotly_3.6.0       stringr_1.0.0     \n",
       " [5] digest_0.6.9       RColorBrewer_1.1-2 scales_0.4.0       extrafont_0.17    \n",
       " [9] ggplot2_2.1.0      dplyr_0.4.3        readr_0.2.2       \n",
       "\n",
       "loaded via a namespace (and not attached):\n",
       " [1] Rcpp_0.12.4      Rttf2pt1_1.3.3   magrittr_1.5     munsell_0.4.3   \n",
       " [5] uuid_0.1-2       colorspace_1.2-6 R6_2.1.2         httr_1.1.0      \n",
       " [9] plyr_1.8.3       tools_3.3.0      parallel_3.3.0   gtable_0.2.0    \n",
       "[13] DBI_0.4          extrafontdb_1.0  htmltools_0.3.5  assertthat_0.1  \n",
       "[17] gridExtra_2.2.1  IRdisplay_0.3    tidyr_0.4.1      repr_0.4        \n",
       "[21] base64enc_0.1-3  IRkernel_0.5     evaluate_0.9     rzmq_0.7.7      \n",
       "[25] stringi_1.0-1    jsonlite_0.9.19 "
      ]
     },
     "execution_count": 1,
     "metadata": {},
     "output_type": "execute_result"
    }
   ],
   "source": [
    "source(\"Rstart.R\")\n",
    "\n",
    "library(plotly)\n",
    "library(viridis)\n",
    "library(htmlwidgets)\n",
    "\n",
    "sessionInfo()"
   ]
  },
  {
   "cell_type": "code",
   "execution_count": 2,
   "metadata": {
    "collapsed": false
   },
   "outputs": [
    {
     "name": "stdout",
     "output_type": "stream",
     "text": [
      "Source: local data frame [6 x 14]\n",
      "\n",
      "  job_id                            job_title  job_type salary_min salary_max\n",
      "   (int)                                (chr)     (chr)      (int)      (int)\n",
      "1 120562                      Growth Engineer full-time     100000     140000\n",
      "2  18839                             Designer full-time      80000     120000\n",
      "3  88730 Applications (Unreal/Unity) Engineer full-time     100000     130000\n",
      "4 104888                       Data Scientist full-time     100000     180000\n",
      "5 135728              Infrastructure Engineer full-time     100000     130000\n",
      "6  57695           Senior Full Stack Engineer full-time     100000     150000\n",
      "Variables not shown: equity_cliff (dbl), equity_vest (dbl), equity_min (dbl),\n",
      "  equity_max (dbl), roles (chr), skills (chr), updated_at (time), salary_mid\n",
      "  (dbl), equity_mid (dbl)\n"
     ]
    }
   ],
   "source": [
    "df <- read_csv(\"sfba_angelist_jobs.csv\") %>% mutate(salary_mid = (salary_min+salary_max)/2,\n",
    "                                                    equity_mid = (equity_min+equity_max)/2)\n",
    "\n",
    "print(head(df))"
   ]
  },
  {
   "cell_type": "code",
   "execution_count": 3,
   "metadata": {
    "collapsed": false
   },
   "outputs": [
    {
     "name": "stdout",
     "output_type": "stream",
     "text": [
      "[1] \"Title: Growth Engineer<br>Salary: $100k — $140k<br>Equity: 0% — 1%<br>Roles: Full Stack Developer\"              \n",
      "[2] \"Title: Designer<br>Salary: $80k — $120k<br>Equity: 0.2% — 0.8%<br>Roles: Designer, UI/UX Designer\"              \n",
      "[3] \"Title: Applications (Unreal/Unity) Engineer<br>Salary: $100k — $130k<br>Equity: 0.1% — 0.2%<br>Roles: Developer\"\n",
      "[4] \"Title: Data Scientist<br>Salary: $100k — $180k<br>Equity: 0.01% — 0.1%<br>Roles: Data Scientist\"                \n",
      "[5] \"Title: Infrastructure Engineer<br>Salary: $100k — $130k<br>Equity: 0.1% — 0.35%<br>Roles: DevOps\"               \n",
      "[6] \"Title: Senior Full Stack Engineer<br>Salary: $100k — $150k<br>Equity: 0% — 1%<br>Roles: Full Stack Developer\"   \n"
     ]
    }
   ],
   "source": [
    "salaryFormat <- function(x) {\n",
    "    paste0(\"$\",x/1000,\"k\")\n",
    "}\n",
    "\n",
    "equityFormat <- function(x) {\n",
    "    paste0(x,\"%\")\n",
    "}\n",
    "\n",
    "ifEngineerNonenginner <- function(job_title) {\n",
    "    ifelse(grepl(\"engineer\", tolower(job_title)) | grepl(\"developer\", tolower(job_title)), \"Engineer\", \"Non-Engineer\")    \n",
    "}\n",
    "\n",
    "plot_tooltip <- function(df) {\n",
    "    sprintf(\"Title: %s<br>Salary: %s — %s<br>Equity: %s — %s<br>Roles: %s\",\n",
    "            df$job_title, salaryFormat(df$salary_min), salaryFormat(df$salary_max),\n",
    "            equityFormat(df$equity_min), equityFormat(df$equity_max), df$roles)\n",
    "}\n",
    "\n",
    "df$tooltip <- plot_tooltip(df)\n",
    "\n",
    "print(head(df$tooltip))"
   ]
  },
  {
   "cell_type": "code",
   "execution_count": 4,
   "metadata": {
    "collapsed": false,
    "scrolled": true
   },
   "outputs": [
    {
     "name": "stdout",
     "output_type": "stream",
     "text": [
      "Source: local data frame [6 x 16]\n",
      "\n",
      "  job_id                            job_title  job_type salary_min salary_max\n",
      "   (int)                                (chr)     (chr)      (int)      (int)\n",
      "1 120562                      Growth Engineer full-time     100000     140000\n",
      "2  18839                             Designer full-time      80000     120000\n",
      "3  88730 Applications (Unreal/Unity) Engineer full-time     100000     130000\n",
      "4 104888                       Data Scientist full-time     100000     180000\n",
      "5 135728              Infrastructure Engineer full-time     100000     130000\n",
      "6  57695           Senior Full Stack Engineer full-time     100000     150000\n",
      "Variables not shown: equity_cliff (dbl), equity_vest (dbl), equity_min (dbl),\n",
      "  equity_max (dbl), roles (chr), skills (chr), updated_at (time), salary_mid\n",
      "  (dbl), equity_mid (dbl), tooltip (chr), job_class (fctr)\n"
     ]
    }
   ],
   "source": [
    "df_jobs <- df %>%\n",
    "                mutate(job_class = factor(ifEngineerNonenginner(job_title))) %>%\n",
    "                filter(job_class!=\"Other\", job_type==\"full-time\")\n",
    "\n",
    "print(head(df_jobs))"
   ]
  },
  {
   "cell_type": "code",
   "execution_count": 5,
   "metadata": {
    "collapsed": false
   },
   "outputs": [
    {
     "name": "stdout",
     "output_type": "stream",
     "text": [
      "Source: local data frame [2 x 5]\n",
      "\n",
      "     job_class count      perc avg_salary avg_equity\n",
      "        (fctr) (int)     (dbl)      (dbl)      (dbl)\n",
      "1     Engineer  2965 0.4990742     115000       0.10\n",
      "2 Non-Engineer  2976 0.5009258      90000       0.02\n"
     ]
    }
   ],
   "source": [
    "df_jobs_agg <- df_jobs %>% group_by(job_class) %>%\n",
    "                    summarize(count=n(),\n",
    "                              perc=count/nrow(df_jobs),\n",
    "                              avg_salary=median(salary_mid),\n",
    "                              avg_equity=median(equity_min))\n",
    "\n",
    "print(df_jobs_agg)"
   ]
  },
  {
   "cell_type": "code",
   "execution_count": 6,
   "metadata": {
    "collapsed": false
   },
   "outputs": [
    {
     "name": "stderr",
     "output_type": "stream",
     "text": [
      "Warning message:\n",
      ": Removed 1 rows containing missing values (geom_point)."
     ]
    }
   ],
   "source": [
    "plot <- ggplot(df_jobs %>% filter(equity_mid <= 10, salary_mid <= 400000), aes(x=equity_mid, y=salary_mid, color=salary_mid)) +\n",
    "            geom_point(alpha=0.2, stroke=0, size=1) +\n",
    "            geom_hline(data=df_jobs_agg, aes(yintercept=avg_salary)) +\n",
    "            fte_theme() +\n",
    "            scale_x_continuous(limits=c(0,10), breaks=seq(0,10, by=2.5), labels=equityFormat(seq(0,10, by=2.5))) +\n",
    "            scale_y_continuous(limits=c(0,350000), breaks=seq(0,350000, by=50000), labels=salaryFormat(seq(0,350000, by=50000))) +\n",
    "            scale_color_viridis() +\n",
    "            labs(x=\"Equity (Midpoint of Offered Range)\", y=\"Salary (Midpoint of Offered Range)\", title=\"Full-Time Job Compensation Offerings in San Francisco Bay Area\") +\n",
    "            facet_wrap(~ job_class, ncol=2) \n",
    "\n",
    "max_save(plot, \"engineer-sfba-1\", \"AngelList\", w=5)"
   ]
  },
  {
   "cell_type": "markdown",
   "metadata": {},
   "source": [
    "![](engineer-sfba-1.png)"
   ]
  },
  {
   "cell_type": "code",
   "execution_count": 26,
   "metadata": {
    "collapsed": false
   },
   "outputs": [],
   "source": [
    "f <- list(\n",
    "  family = \"Source Sans Pro\",\n",
    "  color = \"#7f7f7f\"\n",
    ")\n",
    "\n",
    "a <- list(\n",
    "    tickfont=f\n",
    ")\n",
    "\n",
    "## Match blog background color\n",
    "theme_color <- \"#f7f8fa\"\n",
    "\n",
    "\n",
    "i_plot <- ggplot(df_jobs %>% filter(equity_mid <= 10, salary_mid <= 400000), aes(text=tooltip)) +\n",
    "            geom_point(aes(x=equity_mid, y=salary_mid, color=salary_mid), alpha=0.2) +\n",
    "            geom_hline(data=df_jobs_agg, aes(yintercept=avg_salary, text=sprintf(\"Median Salary: %s\", salaryFormat(avg_salary)))) +\n",
    "            fte_theme() +\n",
    "            scale_x_continuous(limits=c(0,10), breaks=seq(0,10, by=2.5), labels=equityFormat(seq(0,10, by=2.5))) +\n",
    "            scale_y_continuous(limits=c(0,350000), breaks=seq(0,350000, by=50000), labels=salaryFormat(seq(0,350000, by=50000))) +\n",
    "            scale_color_viridis() +\n",
    "            labs(x=\"Equity (Midpoint of Offered Range)\", y=\"Salary (Midpoint of Offered Range)\", title=\"Full-Time Job Compensation Offerings in San Francisco Bay Area (via AngelList)\") +\n",
    "            facet_wrap(~ job_class, ncol=2) +\n",
    "            theme(plot.background=element_rect(fill=theme_color), \n",
    "                  panel.background=element_rect(fill=theme_color),\n",
    "                  panel.border=element_rect(color=theme_color),\n",
    "                  strip.background=element_rect(fill=theme_color))\n",
    "\n",
    "## plot.ly settings\n",
    "i_plot <- i_plot %>%\n",
    "    ggplotly(tooltip=c(\"text\")) %>%\n",
    "    layout(plot, yaxis=a, xaxis=a, xaxis2=a) %>%\n",
    "    config(displaylogo = F, scrollZoom = F, modeBarButtonsToRemove = list('sendDataToCloud', 'toImage'))\n",
    "\n",
    "\n",
    "## Cannot use as.widget() due to bad defaults; must createWidget the hard way\n",
    "createWidget(name=\"plotly\",x=plotly_build(i_plot), sizingPolicy=sizingPolicy(browser.padding = 0, \n",
    "            browser.fill = F, defaultWidth = \"100%\", defaultHeight = 400)) %>%\n",
    "saveWidget(\"engineer-sfba-1.html\", selfcontained=F)"
   ]
  },
  {
   "cell_type": "markdown",
   "metadata": {},
   "source": [
    "# The MIT License (MIT)\n",
    "\n",
    "Copyright (c) 2016 Max Woolf\n",
    "\n",
    "Permission is hereby granted, free of charge, to any person obtaining a copy of this software and associated documentation files (the \"Software\"), to deal in the Software without restriction, including without limitation the rights to use, copy, modify, merge, publish, distribute, sublicense, and/or sell copies of the Software, and to permit persons to whom the Software is furnished to do so, subject to the following conditions:\n",
    "\n",
    "The above copyright notice and this permission notice shall be included in all copies or substantial portions of the Software.\n",
    "\n",
    "THE SOFTWARE IS PROVIDED \"AS IS\", WITHOUT WARRANTY OF ANY KIND, EXPRESS OR IMPLIED, INCLUDING BUT NOT LIMITED TO THE WARRANTIES OF MERCHANTABILITY, FITNESS FOR A PARTICULAR PURPOSE AND NONINFRINGEMENT. IN NO EVENT SHALL THE AUTHORS OR COPYRIGHT HOLDERS BE LIABLE FOR ANY CLAIM, DAMAGES OR OTHER LIABILITY, WHETHER IN AN ACTION OF CONTRACT, TORT OR OTHERWISE, ARISING FROM, OUT OF OR IN CONNECTION WITH THE SOFTWARE OR THE USE OR OTHER DEALINGS IN THE SOFTWARE."
   ]
  }
 ],
 "metadata": {
  "kernelspec": {
   "display_name": "R",
   "language": "R",
   "name": "ir"
  },
  "language_info": {
   "codemirror_mode": "r",
   "file_extension": ".r",
   "mimetype": "text/x-r-source",
   "name": "R",
   "pygments_lexer": "r",
   "version": "3.3.0"
  }
 },
 "nbformat": 4,
 "nbformat_minor": 0
}
